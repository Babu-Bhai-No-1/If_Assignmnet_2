{
 "cells": [
  {
   "cell_type": "code",
   "execution_count": 3,
   "id": "6e1369c1-89ae-471f-a9b8-8dbb8db2cc8e",
   "metadata": {},
   "outputs": [
    {
     "name": "stdin",
     "output_type": "stream",
     "text": [
      "Enter a number 55\n"
     ]
    },
    {
     "name": "stdout",
     "output_type": "stream",
     "text": [
      "Hello\n"
     ]
    }
   ],
   "source": [
    "#Q8. Write a program to display \"Hello\" if a number entered\n",
    "#by user is a multiple of five, otherwise print \"Bye\"?\n",
    "n=int(input(\"Enter a number\"))\n",
    "if(n%5==0):\n",
    "    print(\"Hello\")\n",
    "else:\n",
    "    print(\"Bye\")"
   ]
  },
  {
   "cell_type": "code",
   "execution_count": 7,
   "id": "73ef6b07-dca1-4e5b-bb18-0fff420ccda6",
   "metadata": {},
   "outputs": [
    {
     "name": "stdin",
     "output_type": "stream",
     "text": [
      "Enter a number  139\n"
     ]
    },
    {
     "name": "stdout",
     "output_type": "stream",
     "text": [
      "Yes\n"
     ]
    }
   ],
   "source": [
    "#Q9. Write a program to check whether the last digit of a number\n",
    "#(entered by user) is divisible by 3 or not?\n",
    "n=int(input(\"Enter a number \"))\n",
    "n=n%10\n",
    "if(n%3==0):\n",
    "    print(\"Yes\")\n",
    "else:\n",
    "    print(\"No\")"
   ]
  },
  {
   "cell_type": "code",
   "execution_count": 15,
   "id": "c6c80d7d-435d-44f6-9447-571abf538346",
   "metadata": {},
   "outputs": [
    {
     "name": "stdin",
     "output_type": "stream",
     "text": [
      "Enter a number 1\n",
      "Enter a number 2\n",
      "Enter a number 3\n"
     ]
    },
    {
     "name": "stdout",
     "output_type": "stream",
     "text": [
      "2\n"
     ]
    }
   ],
   "source": [
    "#Q5. Accept three numbers from the user and\n",
    "#display the second largest number?\n",
    "n1=int(input(\"Enter a number\"))\n",
    "n2=int(input(\"Enter a number\"))\n",
    "n3=int(input(\"Enter a number\"))\n",
    "if(n1>n2 and n1<n3)  or (n1>n3 and n1<n2):\n",
    "    print(n1)\n",
    "elif(n2>n1 and n2<n3) or (n2>n3 and n2<n1):\n",
    "    print(n2)\n",
    "else:\n",
    "    print(n3)"
   ]
  },
  {
   "cell_type": "code",
   "execution_count": 17,
   "id": "00ac8c9b-5ccf-4ba3-ada0-6d6a3d210358",
   "metadata": {},
   "outputs": [
    {
     "name": "stdin",
     "output_type": "stream",
     "text": [
      "enter the number 656\n"
     ]
    },
    {
     "name": "stdout",
     "output_type": "stream",
     "text": [
      "Yes\n"
     ]
    }
   ],
   "source": [
    "#Q10. Write a program to check whether a number entered\n",
    "#is three-digit number or not?\n",
    "n=int(input(\"enter the number\"))\n",
    "if(n>=100 and n<=999):\n",
    "    print(\"Yes\")\n",
    "else:\n",
    "    print(\"No\")"
   ]
  },
  {
   "cell_type": "code",
   "execution_count": 19,
   "id": "ad20ec69-3906-4dcd-a45b-2abacd680991",
   "metadata": {},
   "outputs": [
    {
     "name": "stdin",
     "output_type": "stream",
     "text": [
      "Enter marks: 99\n",
      "Enter marks: 99\n",
      "Enter marks: 99\n",
      "Enter marks: 0\n"
     ]
    },
    {
     "name": "stdout",
     "output_type": "stream",
     "text": [
      "Commerce\n"
     ]
    }
   ],
   "source": [
    "#Q7. Accept the marks of English, Math and Science,\n",
    "#Social Studies Subject and display the stream allotted\n",
    "#according to following:\n",
    "English=int(input(\"Enter marks:\"))\n",
    "Math=int(input(\"Enter marks:\"))\n",
    "Science=int(input(\"Enter marks:\"))\n",
    "Social_Studies=int(input(\"Enter marks:\"))\n",
    "if(English>80 and Math>80 and Science>80 and Social_Studies>80):\n",
    "    print(\"Science\")\n",
    "elif(English>80 and Math>50 and Science>50):\n",
    "    print(\"Commerce\")\n",
    "elif(English>80 and Social_Studies>80):\n",
    "    print(\"Humanities\")"
   ]
  },
  {
   "cell_type": "code",
   "execution_count": 21,
   "id": "6e45853e-8cb8-4732-87b1-24fae7098c15",
   "metadata": {},
   "outputs": [
    {
     "name": "stdin",
     "output_type": "stream",
     "text": [
      "Enter price: 10000\n"
     ]
    },
    {
     "name": "stdout",
     "output_type": "stream",
     "text": [
      "9985\n"
     ]
    }
   ],
   "source": [
    "#Q6. Accept the marked price from the user and calculate\n",
    "#the Net amount as (Marked Price – Discount) to pay\n",
    "#according to following criteria:\n",
    "Marked=int(input(\"Enter price:\"))\n",
    "if(Marked>10000):\n",
    "    discount=20\n",
    "elif(Marked>7000 and Marked<=10000):\n",
    "    discount=15\n",
    "elif(Marked<=7000):\n",
    "    discount=10\n",
    "Net_Amt=Marked-discount\n",
    "print(Net_Amt)\n",
    "    "
   ]
  },
  {
   "cell_type": "code",
   "execution_count": 27,
   "id": "243c5f5a-efbf-4802-8fc7-4174f4e3b801",
   "metadata": {},
   "outputs": [
    {
     "name": "stdin",
     "output_type": "stream",
     "text": [
      "Enter age: 4\n",
      "Enter age: 3\n",
      "Enter age: 2\n",
      "Enter age: 1\n"
     ]
    },
    {
     "name": "stdout",
     "output_type": "stream",
     "text": [
      "1\n"
     ]
    }
   ],
   "source": [
    "#Q3. Accept the age of 4 people and display the youngest one?\n",
    "a1=int(input(\"Enter age:\"))\n",
    "a2=int(input(\"Enter age:\"))\n",
    "a3=int(input(\"Enter age:\"))\n",
    "a4=int(input(\"Enter age:\"))\n",
    "if(a1<a2 and a1<a3 and a1<a4):\n",
    "    print(a1)\n",
    "elif(a2<a1 and a2<a3 and a2<a4):   \n",
    "    print(a2)\n",
    "elif(a3<a1 and a3<a2 and a3<a4):\n",
    "    print(a3)\n",
    "else:\n",
    "    print(a4)\n"
   ]
  },
  {
   "cell_type": "code",
   "execution_count": 29,
   "id": "ef4c22c7-9265-4d16-b8f6-67741267ca73",
   "metadata": {},
   "outputs": [
    {
     "name": "stdin",
     "output_type": "stream",
     "text": [
      "Enter the marks: 59\n"
     ]
    },
    {
     "name": "stdout",
     "output_type": "stream",
     "text": [
      "D\n"
     ]
    }
   ],
   "source": [
    "#Q2. Write a program to accept percentage from the user and display\n",
    "#the grade according to the following criteria:\n",
    "marks=int(input(\"Enter the marks:\"))\n",
    "if(marks>90):\n",
    "    print(\"A\")\n",
    "elif(marks>80 and marks<=90):\n",
    "    print(\"B\")\n",
    "elif(marks>=60 and marks<=80):\n",
    "    print(\"C\")\n",
    "elif(marks<60):\n",
    "    print(\"D\")\n",
    " "
   ]
  },
  {
   "cell_type": "code",
   "execution_count": 31,
   "id": "c4114afe-e8cb-4e18-b10b-774de8e72c9c",
   "metadata": {},
   "outputs": [
    {
     "name": "stdin",
     "output_type": "stream",
     "text": [
      "Enter the salary: 1000\n",
      "Enter the time: 10\n"
     ]
    },
    {
     "name": "stdout",
     "output_type": "stream",
     "text": [
      "1080.0\n"
     ]
    }
   ],
   "source": [
    "#Q4. A company decided to give bonus to employee\n",
    "#according to following criteria:\n",
    "salary=int(input(\"Enter the salary:\"))\n",
    "time=int(input(\"Enter the time:\"))\n",
    "if(time>10):\n",
    "   bonus=10\n",
    "elif(time>=6 and time<=10):\n",
    "    bonus=8\n",
    "elif(time<6):\n",
    "    bonus=5\n",
    "net_salary=salary+bonus*(salary/100)\n",
    "print(net_salary)"
   ]
  },
  {
   "cell_type": "code",
   "execution_count": 33,
   "id": "c17b9231-13c7-4206-af2f-430caa74ec26",
   "metadata": {},
   "outputs": [
    {
     "name": "stdin",
     "output_type": "stream",
     "text": [
      "Enter the number of units: 350\n"
     ]
    },
    {
     "name": "stdout",
     "output_type": "stream",
     "text": [
      "2000\n"
     ]
    }
   ],
   "source": [
    "#Q1. Write a program to calculate the electricity bill\n",
    "#using only if statement? (accept number of unit from user)\n",
    "#according to the following criteria:\n",
    "Unit_Number=int(input(\"Enter the number of units:\"))\n",
    "if(Unit_Number<100):\n",
    "    bill=0\n",
    "if(Unit_Number>100):\n",
    "    bill=0\n",
    "    Unit_Number=Unit_Number-100\n",
    "    if(Unit_Number>100):\n",
    "        bill=bill+100*5\n",
    "        Unit_Number=Unit_Number-100\n",
    "        if(Unit_Number>0):\n",
    "            bill=bill+Unit_Number*10\n",
    "print(bill)            "
   ]
  },
  {
   "cell_type": "code",
   "execution_count": null,
   "id": "157da781-fe23-4f33-8312-a44c473ef658",
   "metadata": {},
   "outputs": [],
   "source": []
  }
 ],
 "metadata": {
  "kernelspec": {
   "display_name": "Python 3 (ipykernel)",
   "language": "python",
   "name": "python3"
  },
  "language_info": {
   "codemirror_mode": {
    "name": "ipython",
    "version": 3
   },
   "file_extension": ".py",
   "mimetype": "text/x-python",
   "name": "python",
   "nbconvert_exporter": "python",
   "pygments_lexer": "ipython3",
   "version": "3.12.4"
  }
 },
 "nbformat": 4,
 "nbformat_minor": 5
}
